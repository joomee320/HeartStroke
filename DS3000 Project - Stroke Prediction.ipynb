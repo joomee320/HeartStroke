{
 "cells": [
  {
   "cell_type": "code",
   "execution_count": 1,
   "metadata": {
    "scrolled": true
   },
   "outputs": [
    {
     "name": "stdout",
     "output_type": "stream",
     "text": [
      "Requirement already satisfied: imbalanced-learn in ./anaconda3/lib/python3.11/site-packages (0.12.2)\n",
      "Requirement already satisfied: numpy>=1.17.3 in ./anaconda3/lib/python3.11/site-packages (from imbalanced-learn) (1.24.3)\n",
      "Requirement already satisfied: scipy>=1.5.0 in ./anaconda3/lib/python3.11/site-packages (from imbalanced-learn) (1.11.1)\n",
      "Requirement already satisfied: scikit-learn>=1.0.2 in ./anaconda3/lib/python3.11/site-packages (from imbalanced-learn) (1.4.2)\n",
      "Requirement already satisfied: joblib>=1.1.1 in ./anaconda3/lib/python3.11/site-packages (from imbalanced-learn) (1.2.0)\n",
      "Requirement already satisfied: threadpoolctl>=2.0.0 in ./anaconda3/lib/python3.11/site-packages (from imbalanced-learn) (2.2.0)\n",
      "Note: you may need to restart the kernel to use updated packages.\n"
     ]
    }
   ],
   "source": [
    "# Import any Libraries\n",
    "import warnings\n",
    "warnings.filterwarnings('ignore')\n",
    "\n",
    "import matplotlib.pyplot as plt\n",
    "import pandas as pd\n",
    "import numpy as np\n",
    "import math\n",
    "import seaborn as sns\n",
    "\n",
    "from sklearn.preprocessing import StandardScaler\n",
    "from sklearn.model_selection import GridSearchCV, train_test_split\n",
    "from sklearn.svm import SVC\n",
    "from sklearn.metrics import accuracy_score\n",
    "from sklearn.ensemble import RandomForestRegressor\n",
    "from sklearn.metrics import mean_squared_error\n",
    "from sklearn.tree import DecisionTreeClassifier\n",
    "from sklearn.model_selection import train_test_split\n",
    "from sklearn.preprocessing import OneHotEncoder\n",
    "from sklearn.metrics import accuracy_score\n",
    "from sklearn.metrics import mean_squared_error, r2_score\n",
    "from scipy import stats\n",
    "from scipy.stats import ttest_ind, chi2_contingency, spearmanr\n",
    "from sklearn.metrics import accuracy_score, precision_score, recall_score, f1_score, confusion_matrix, make_scorer\n",
    "%pip install imbalanced-learn\n",
    "from imblearn.over_sampling import SMOTENC\n",
    "from imblearn.under_sampling import RandomUnderSampler\n",
    "from scipy import stats\n"
   ]
  },
  {
   "cell_type": "markdown",
   "metadata": {},
   "source": [
    "# Import Data into DataFrame"
   ]
  },
  {
   "cell_type": "code",
   "execution_count": 2,
   "metadata": {},
   "outputs": [
    {
     "data": {
      "text/html": [
       "<div>\n",
       "<style scoped>\n",
       "    .dataframe tbody tr th:only-of-type {\n",
       "        vertical-align: middle;\n",
       "    }\n",
       "\n",
       "    .dataframe tbody tr th {\n",
       "        vertical-align: top;\n",
       "    }\n",
       "\n",
       "    .dataframe thead th {\n",
       "        text-align: right;\n",
       "    }\n",
       "</style>\n",
       "<table border=\"1\" class=\"dataframe\">\n",
       "  <thead>\n",
       "    <tr style=\"text-align: right;\">\n",
       "      <th></th>\n",
       "      <th>Gender</th>\n",
       "      <th>age</th>\n",
       "      <th>education</th>\n",
       "      <th>currentSmoker</th>\n",
       "      <th>cigsPerDay</th>\n",
       "      <th>BPMeds</th>\n",
       "      <th>prevalentStroke</th>\n",
       "      <th>prevalentHyp</th>\n",
       "      <th>diabetes</th>\n",
       "      <th>totChol</th>\n",
       "      <th>sysBP</th>\n",
       "      <th>diaBP</th>\n",
       "      <th>BMI</th>\n",
       "      <th>heartRate</th>\n",
       "      <th>glucose</th>\n",
       "      <th>Heart_ stroke</th>\n",
       "    </tr>\n",
       "  </thead>\n",
       "  <tbody>\n",
       "    <tr>\n",
       "      <th>0</th>\n",
       "      <td>Male</td>\n",
       "      <td>39</td>\n",
       "      <td>postgraduate</td>\n",
       "      <td>0</td>\n",
       "      <td>0.0</td>\n",
       "      <td>0.0</td>\n",
       "      <td>no</td>\n",
       "      <td>0</td>\n",
       "      <td>0</td>\n",
       "      <td>195.0</td>\n",
       "      <td>106.0</td>\n",
       "      <td>70.0</td>\n",
       "      <td>26.97</td>\n",
       "      <td>80.0</td>\n",
       "      <td>77.0</td>\n",
       "      <td>No</td>\n",
       "    </tr>\n",
       "    <tr>\n",
       "      <th>1</th>\n",
       "      <td>Female</td>\n",
       "      <td>46</td>\n",
       "      <td>primaryschool</td>\n",
       "      <td>0</td>\n",
       "      <td>0.0</td>\n",
       "      <td>0.0</td>\n",
       "      <td>no</td>\n",
       "      <td>0</td>\n",
       "      <td>0</td>\n",
       "      <td>250.0</td>\n",
       "      <td>121.0</td>\n",
       "      <td>81.0</td>\n",
       "      <td>28.73</td>\n",
       "      <td>95.0</td>\n",
       "      <td>76.0</td>\n",
       "      <td>No</td>\n",
       "    </tr>\n",
       "    <tr>\n",
       "      <th>2</th>\n",
       "      <td>Male</td>\n",
       "      <td>48</td>\n",
       "      <td>uneducated</td>\n",
       "      <td>1</td>\n",
       "      <td>20.0</td>\n",
       "      <td>0.0</td>\n",
       "      <td>no</td>\n",
       "      <td>0</td>\n",
       "      <td>0</td>\n",
       "      <td>245.0</td>\n",
       "      <td>127.5</td>\n",
       "      <td>80.0</td>\n",
       "      <td>25.34</td>\n",
       "      <td>75.0</td>\n",
       "      <td>70.0</td>\n",
       "      <td>No</td>\n",
       "    </tr>\n",
       "    <tr>\n",
       "      <th>3</th>\n",
       "      <td>Female</td>\n",
       "      <td>61</td>\n",
       "      <td>graduate</td>\n",
       "      <td>1</td>\n",
       "      <td>30.0</td>\n",
       "      <td>0.0</td>\n",
       "      <td>no</td>\n",
       "      <td>1</td>\n",
       "      <td>0</td>\n",
       "      <td>225.0</td>\n",
       "      <td>150.0</td>\n",
       "      <td>95.0</td>\n",
       "      <td>28.58</td>\n",
       "      <td>65.0</td>\n",
       "      <td>103.0</td>\n",
       "      <td>yes</td>\n",
       "    </tr>\n",
       "    <tr>\n",
       "      <th>4</th>\n",
       "      <td>Female</td>\n",
       "      <td>46</td>\n",
       "      <td>graduate</td>\n",
       "      <td>1</td>\n",
       "      <td>23.0</td>\n",
       "      <td>0.0</td>\n",
       "      <td>no</td>\n",
       "      <td>0</td>\n",
       "      <td>0</td>\n",
       "      <td>285.0</td>\n",
       "      <td>130.0</td>\n",
       "      <td>84.0</td>\n",
       "      <td>23.10</td>\n",
       "      <td>85.0</td>\n",
       "      <td>85.0</td>\n",
       "      <td>No</td>\n",
       "    </tr>\n",
       "    <tr>\n",
       "      <th>...</th>\n",
       "      <td>...</td>\n",
       "      <td>...</td>\n",
       "      <td>...</td>\n",
       "      <td>...</td>\n",
       "      <td>...</td>\n",
       "      <td>...</td>\n",
       "      <td>...</td>\n",
       "      <td>...</td>\n",
       "      <td>...</td>\n",
       "      <td>...</td>\n",
       "      <td>...</td>\n",
       "      <td>...</td>\n",
       "      <td>...</td>\n",
       "      <td>...</td>\n",
       "      <td>...</td>\n",
       "      <td>...</td>\n",
       "    </tr>\n",
       "    <tr>\n",
       "      <th>4233</th>\n",
       "      <td>Male</td>\n",
       "      <td>50</td>\n",
       "      <td>uneducated</td>\n",
       "      <td>1</td>\n",
       "      <td>1.0</td>\n",
       "      <td>0.0</td>\n",
       "      <td>no</td>\n",
       "      <td>1</td>\n",
       "      <td>0</td>\n",
       "      <td>313.0</td>\n",
       "      <td>179.0</td>\n",
       "      <td>92.0</td>\n",
       "      <td>25.97</td>\n",
       "      <td>66.0</td>\n",
       "      <td>86.0</td>\n",
       "      <td>yes</td>\n",
       "    </tr>\n",
       "    <tr>\n",
       "      <th>4234</th>\n",
       "      <td>Male</td>\n",
       "      <td>51</td>\n",
       "      <td>graduate</td>\n",
       "      <td>1</td>\n",
       "      <td>43.0</td>\n",
       "      <td>0.0</td>\n",
       "      <td>no</td>\n",
       "      <td>0</td>\n",
       "      <td>0</td>\n",
       "      <td>207.0</td>\n",
       "      <td>126.5</td>\n",
       "      <td>80.0</td>\n",
       "      <td>19.71</td>\n",
       "      <td>65.0</td>\n",
       "      <td>68.0</td>\n",
       "      <td>No</td>\n",
       "    </tr>\n",
       "    <tr>\n",
       "      <th>4235</th>\n",
       "      <td>Female</td>\n",
       "      <td>48</td>\n",
       "      <td>primaryschool</td>\n",
       "      <td>1</td>\n",
       "      <td>20.0</td>\n",
       "      <td>NaN</td>\n",
       "      <td>no</td>\n",
       "      <td>0</td>\n",
       "      <td>0</td>\n",
       "      <td>248.0</td>\n",
       "      <td>131.0</td>\n",
       "      <td>72.0</td>\n",
       "      <td>22.00</td>\n",
       "      <td>84.0</td>\n",
       "      <td>86.0</td>\n",
       "      <td>No</td>\n",
       "    </tr>\n",
       "    <tr>\n",
       "      <th>4236</th>\n",
       "      <td>Female</td>\n",
       "      <td>44</td>\n",
       "      <td>uneducated</td>\n",
       "      <td>1</td>\n",
       "      <td>15.0</td>\n",
       "      <td>0.0</td>\n",
       "      <td>no</td>\n",
       "      <td>0</td>\n",
       "      <td>0</td>\n",
       "      <td>210.0</td>\n",
       "      <td>126.5</td>\n",
       "      <td>87.0</td>\n",
       "      <td>19.16</td>\n",
       "      <td>86.0</td>\n",
       "      <td>NaN</td>\n",
       "      <td>No</td>\n",
       "    </tr>\n",
       "    <tr>\n",
       "      <th>4237</th>\n",
       "      <td>Female</td>\n",
       "      <td>52</td>\n",
       "      <td>primaryschool</td>\n",
       "      <td>0</td>\n",
       "      <td>0.0</td>\n",
       "      <td>0.0</td>\n",
       "      <td>no</td>\n",
       "      <td>0</td>\n",
       "      <td>0</td>\n",
       "      <td>269.0</td>\n",
       "      <td>133.5</td>\n",
       "      <td>83.0</td>\n",
       "      <td>21.47</td>\n",
       "      <td>80.0</td>\n",
       "      <td>107.0</td>\n",
       "      <td>No</td>\n",
       "    </tr>\n",
       "  </tbody>\n",
       "</table>\n",
       "<p>4238 rows × 16 columns</p>\n",
       "</div>"
      ],
      "text/plain": [
       "      Gender  age      education  currentSmoker  cigsPerDay  BPMeds  \\\n",
       "0       Male   39   postgraduate              0         0.0     0.0   \n",
       "1     Female   46  primaryschool              0         0.0     0.0   \n",
       "2       Male   48     uneducated              1        20.0     0.0   \n",
       "3     Female   61       graduate              1        30.0     0.0   \n",
       "4     Female   46       graduate              1        23.0     0.0   \n",
       "...      ...  ...            ...            ...         ...     ...   \n",
       "4233    Male   50     uneducated              1         1.0     0.0   \n",
       "4234    Male   51       graduate              1        43.0     0.0   \n",
       "4235  Female   48  primaryschool              1        20.0     NaN   \n",
       "4236  Female   44     uneducated              1        15.0     0.0   \n",
       "4237  Female   52  primaryschool              0         0.0     0.0   \n",
       "\n",
       "     prevalentStroke  prevalentHyp  diabetes  totChol  sysBP  diaBP    BMI  \\\n",
       "0                 no             0         0    195.0  106.0   70.0  26.97   \n",
       "1                 no             0         0    250.0  121.0   81.0  28.73   \n",
       "2                 no             0         0    245.0  127.5   80.0  25.34   \n",
       "3                 no             1         0    225.0  150.0   95.0  28.58   \n",
       "4                 no             0         0    285.0  130.0   84.0  23.10   \n",
       "...              ...           ...       ...      ...    ...    ...    ...   \n",
       "4233              no             1         0    313.0  179.0   92.0  25.97   \n",
       "4234              no             0         0    207.0  126.5   80.0  19.71   \n",
       "4235              no             0         0    248.0  131.0   72.0  22.00   \n",
       "4236              no             0         0    210.0  126.5   87.0  19.16   \n",
       "4237              no             0         0    269.0  133.5   83.0  21.47   \n",
       "\n",
       "      heartRate  glucose Heart_ stroke  \n",
       "0          80.0     77.0            No  \n",
       "1          95.0     76.0            No  \n",
       "2          75.0     70.0            No  \n",
       "3          65.0    103.0           yes  \n",
       "4          85.0     85.0            No  \n",
       "...         ...      ...           ...  \n",
       "4233       66.0     86.0           yes  \n",
       "4234       65.0     68.0            No  \n",
       "4235       84.0     86.0            No  \n",
       "4236       86.0      NaN            No  \n",
       "4237       80.0    107.0            No  \n",
       "\n",
       "[4238 rows x 16 columns]"
      ]
     },
     "execution_count": 2,
     "metadata": {},
     "output_type": "execute_result"
    }
   ],
   "source": [
    "# import dataset \n",
    "# link: https://www.kaggle.com/datasets/poonamnema/heart-disease-all-models\n",
    "heart_df = pd.read_csv('heart_disease.csv')\n",
    "heart_df\n"
   ]
  },
  {
   "cell_type": "markdown",
   "metadata": {},
   "source": [
    "# Short Summary of Each Variable\n",
    "\n",
    "- Gender: Indicates the biological sex of the individual. \n",
    "- Age: Represents the age of the individual.\n",
    "- Education: Reflects the highest level of education attained by the individual (e.g., uneducated, primary school, graduate, postgraduate).\n",
    "- Current Smoker: A binary indicator showing whether the individual currently smokes tobacco.\n",
    "- Cigs Per Day: Quantifies the average number of cigarettes smoked per day by the individual.\n",
    "- BPMeds: A binary indicator showing whether the individual is on blood pressure medication or not. \n",
    "- Prevalent Stroke: Indicates whether the individual has had a stroke in the past.\n",
    "- Prevalent Hyp: A binary indicator of whether the individual has hypertension or not. \n",
    "- Diabetes: Indicates whether the individual has diabetes or not. \n",
    "- TotChol: Total cholesterol level in the blood.\n",
    "- SysBP: Systolic blood pressure, measuring the pressure in the arteries when the heart beats.\n",
    "- DiaBP: Diastolic blood pressure, measuring the pressure in the arteries between heartbeats.\n",
    "- BMI: Body Mass Index, a measure of body fat based on height and weight.\n",
    "- Heart Rate: The number of heartbeats per minute.\n",
    "- Glucose: Blood glucose levels. \n",
    "- Heart Stroke: A binary outcome indicating whether the individual has been diagnosed with a stroke. This is the target variable the predictive model aims to forecast based on the input features."
   ]
  },
  {
   "cell_type": "markdown",
   "metadata": {},
   "source": [
    "# Data Preparation "
   ]
  },
  {
   "cell_type": "code",
   "execution_count": 3,
   "metadata": {
    "scrolled": true
   },
   "outputs": [
    {
     "name": "stdout",
     "output_type": "stream",
     "text": [
      "Dimensions of the DataFrame: (4238, 16)\n",
      "\n",
      "Variable Types:\n",
      "Gender              object\n",
      "age                  int64\n",
      "education           object\n",
      "currentSmoker        int64\n",
      "cigsPerDay         float64\n",
      "BPMeds             float64\n",
      "prevalentStroke     object\n",
      "prevalentHyp         int64\n",
      "diabetes             int64\n",
      "totChol            float64\n",
      "sysBP              float64\n",
      "diaBP              float64\n",
      "BMI                float64\n",
      "heartRate          float64\n",
      "glucose            float64\n",
      "Heart_ stroke       object\n",
      "dtype: object\n"
     ]
    }
   ],
   "source": [
    "# display the dimensions\n",
    "dimensions = heart_df.shape\n",
    "print(f\"Dimensions of the DataFrame: {dimensions}\")\n",
    "\n",
    "# indicate if the variables have suitable types\n",
    "variable_types = heart_df.dtypes\n",
    "print(\"\\nVariable Types:\")\n",
    "print(variable_types)"
   ]
  },
  {
   "cell_type": "markdown",
   "metadata": {},
   "source": [
    "## Convert Data Type to Suitable Date Type"
   ]
  },
  {
   "cell_type": "code",
   "execution_count": 4,
   "metadata": {},
   "outputs": [
    {
     "name": "stdout",
     "output_type": "stream",
     "text": [
      "\n",
      "Variable Types:\n",
      "Gender             category\n",
      "age                   int64\n",
      "education          category\n",
      "currentSmoker      category\n",
      "cigsPerDay            Int64\n",
      "BPMeds             category\n",
      "prevalentStroke    category\n",
      "prevalentHyp       category\n",
      "diabetes           category\n",
      "totChol               Int64\n",
      "sysBP               float64\n",
      "diaBP               float64\n",
      "BMI                 float64\n",
      "heartRate             Int64\n",
      "glucose               Int64\n",
      "Heart_ stroke         Int64\n",
      "dtype: object\n"
     ]
    }
   ],
   "source": [
    "# convert data type to suitable data types\n",
    "heart_df['Gender'] = heart_df['Gender'].astype('category')\n",
    "heart_df['education'] = heart_df['education'].astype('category')\n",
    "heart_df['currentSmoker'] = heart_df['currentSmoker'].astype('category')\n",
    "heart_df['cigsPerDay'] = heart_df['cigsPerDay'].astype('Int64')\n",
    "heart_df['BPMeds'] = heart_df['BPMeds'].astype('category')\n",
    "heart_df['prevalentStroke'] = heart_df['prevalentStroke'].astype('category')\n",
    "heart_df['prevalentHyp'] = heart_df['prevalentHyp'].astype('category')\n",
    "heart_df['diabetes'] = heart_df['diabetes'].astype('category')\n",
    "heart_df['totChol'] = heart_df['totChol'].astype('Int64')\n",
    "heart_df['heartRate'] = heart_df['heartRate'].astype('Int64')\n",
    "heart_df['glucose'] = heart_df['glucose'].astype('Int64')\n",
    "heart_df['Heart_ stroke'] = heart_df['Heart_ stroke'].map({'yes': 1, 'No': 0})\n",
    "# The mapping converts 'Heart_ storoke' data type from object to float64.\n",
    "# It might be efficeint to convert float64 to type int64 for ML analysis. \n",
    "heart_df['Heart_ stroke'] = heart_df['Heart_ stroke'].astype('Int64')\n",
    "\n",
    "# display the converted data type\n",
    "variable_types_after_conversion = heart_df.dtypes\n",
    "print(\"\\nVariable Types:\")\n",
    "print(variable_types_after_conversion)"
   ]
  },
  {
   "cell_type": "markdown",
   "metadata": {},
   "source": [
    "## Handle Missing Values"
   ]
  },
  {
   "cell_type": "code",
   "execution_count": 5,
   "metadata": {},
   "outputs": [
    {
     "name": "stdout",
     "output_type": "stream",
     "text": [
      "Missing values per column:\n",
      " glucose            388\n",
      "education          105\n",
      "BPMeds              53\n",
      "totChol             50\n",
      "cigsPerDay          29\n",
      "BMI                 19\n",
      "heartRate            1\n",
      "Gender               0\n",
      "age                  0\n",
      "currentSmoker        0\n",
      "prevalentStroke      0\n",
      "prevalentHyp         0\n",
      "diabetes             0\n",
      "sysBP                0\n",
      "diaBP                0\n",
      "Heart_ stroke        0\n",
      "dtype: int64\n"
     ]
    }
   ],
   "source": [
    "# check the frequency of missing values in each column\n",
    "print(\"Missing values per column:\\n\", heart_df.isnull().sum(axis=0).sort_values(ascending = False))"
   ]
  },
  {
   "cell_type": "code",
   "execution_count": 6,
   "metadata": {},
   "outputs": [
    {
     "name": "stdout",
     "output_type": "stream",
     "text": [
      "Missing values per row:\n",
      " 1747    3\n",
      "1122    3\n",
      "1785    2\n",
      "2417    2\n",
      "154     2\n",
      "       ..\n",
      "1508    0\n",
      "1509    0\n",
      "1510    0\n",
      "1511    0\n",
      "4237    0\n",
      "Length: 4238, dtype: int64\n"
     ]
    }
   ],
   "source": [
    "# check the frequency of missing values in each row\n",
    "print(\"Missing values per row:\\n\", heart_df.isnull().sum(axis=1).sort_values(ascending = False))"
   ]
  },
  {
   "cell_type": "code",
   "execution_count": 7,
   "metadata": {},
   "outputs": [
    {
     "name": "stdout",
     "output_type": "stream",
     "text": [
      "Percentage of missing values per column:\n",
      " glucose            9.16\n",
      "education          2.48\n",
      "BPMeds             1.25\n",
      "totChol            1.18\n",
      "cigsPerDay         0.68\n",
      "BMI                0.45\n",
      "heartRate          0.02\n",
      "Gender             0.00\n",
      "age                0.00\n",
      "currentSmoker      0.00\n",
      "prevalentStroke    0.00\n",
      "prevalentHyp       0.00\n",
      "diabetes           0.00\n",
      "sysBP              0.00\n",
      "diaBP              0.00\n",
      "Heart_ stroke      0.00\n",
      "dtype: float64\n"
     ]
    }
   ],
   "source": [
    "# column-wise missing value percentage\n",
    "missing_percent_col = ((heart_df.isnull().sum() / len(heart_df)) * 100).round(2)\n",
    "print(\"Percentage of missing values per column:\\n\", missing_percent_col.sort_values(ascending = False))"
   ]
  },
  {
   "cell_type": "code",
   "execution_count": 8,
   "metadata": {
    "scrolled": true
   },
   "outputs": [
    {
     "name": "stdout",
     "output_type": "stream",
     "text": [
      "Percentage of missing values per row:\n",
      " 1747    18.75\n",
      "1122    18.75\n",
      "1785    12.50\n",
      "2417    12.50\n",
      "154     12.50\n",
      "        ...  \n",
      "1508     0.00\n",
      "1509     0.00\n",
      "1510     0.00\n",
      "1511     0.00\n",
      "4237     0.00\n",
      "Length: 4238, dtype: float64\n"
     ]
    }
   ],
   "source": [
    "# row-wise missing value percentage\n",
    "missing_percent_row = ((heart_df.isnull().sum(axis=1) / heart_df.shape[1]) * 100).round(2)\n",
    "print(\"Percentage of missing values per row:\\n\", missing_percent_row.sort_values(ascending = False))"
   ]
  },
  {
   "cell_type": "code",
   "execution_count": 9,
   "metadata": {},
   "outputs": [
    {
     "name": "stdout",
     "output_type": "stream",
     "text": [
      "Missing values in 'Heart_stroke': 0\n",
      "Percentage of missing values in 'Heart_stroke': 0.00%\n"
     ]
    }
   ],
   "source": [
    "# count and percentage of missing values in 'Heart_stroke'\n",
    "missing_heart_stroke = heart_df['Heart_ stroke'].isnull().sum()\n",
    "percent_missing_heart_stroke = (missing_heart_stroke / len(heart_df)) * 100\n",
    "\n",
    "print(f\"Missing values in 'Heart_stroke': {missing_heart_stroke}\")\n",
    "print(f\"Percentage of missing values in 'Heart_stroke': {percent_missing_heart_stroke:.2f}%\")"
   ]
  },
  {
   "cell_type": "markdown",
   "metadata": {},
   "source": [
    "Out of the entire dataset, which consists of 4,238 entries, we've identified that 8 data types exhibit missing values within the range of 1 to 644. Although this discrepancy represents a minor fraction of the dataset (the biggest missing data takes up 15% of our dataset), the presence of missing values can potentially impact the integrity of our data analysis. \n",
    "\n",
    "Since 'Heart_stroke' is the target variable to determine the predictive model that aims to forecast based on the input features, it is essential to remove records with missing 'Heart_stroke' values to ensure the integrity and accuracy of the model prediction.\n",
    "\n",
    "To mitigate this issue, we will substitute missing values for key indicators—such as glucose, total cholesterol (totChol), cigarettes per day (cigsPerDay), Body Mass Index (BMI), and a solitary instance of heartRate with their median values. This approach will help maintain the robustness of our dataset.\n",
    "\n",
    "For missing values of categorical data such as 'education', and 'BPMeds', we will substiture missing values with their mode."
   ]
  },
  {
   "cell_type": "code",
   "execution_count": 10,
   "metadata": {
    "scrolled": true
   },
   "outputs": [
    {
     "name": "stdout",
     "output_type": "stream",
     "text": [
      "glucose            388\n",
      "education          105\n",
      "BPMeds              53\n",
      "totChol             50\n",
      "cigsPerDay          29\n",
      "BMI                 19\n",
      "heartRate            1\n",
      "Gender               0\n",
      "age                  0\n",
      "currentSmoker        0\n",
      "prevalentStroke      0\n",
      "prevalentHyp         0\n",
      "diabetes             0\n",
      "sysBP                0\n",
      "diaBP                0\n",
      "Heart_ stroke        0\n",
      "dtype: int64\n"
     ]
    }
   ],
   "source": [
    "# delete entire rows with missing values with 'Heart_stroke.'\n",
    "heart_df.dropna(subset=['Heart_ stroke'], inplace=True)\n",
    "\n",
    "# check the frequency of null values\n",
    "print(heart_df.isnull().sum(axis=0).sort_values(ascending = False))"
   ]
  },
  {
   "cell_type": "code",
   "execution_count": 11,
   "metadata": {},
   "outputs": [
    {
     "name": "stdout",
     "output_type": "stream",
     "text": [
      "Gender             0\n",
      "age                0\n",
      "education          0\n",
      "currentSmoker      0\n",
      "cigsPerDay         0\n",
      "BPMeds             0\n",
      "prevalentStroke    0\n",
      "prevalentHyp       0\n",
      "diabetes           0\n",
      "totChol            0\n",
      "sysBP              0\n",
      "diaBP              0\n",
      "BMI                0\n",
      "heartRate          0\n",
      "glucose            0\n",
      "Heart_ stroke      0\n",
      "dtype: int64\n"
     ]
    }
   ],
   "source": [
    "# perform imputation \n",
    "\n",
    "# impute missing values for numerical data with median\n",
    "numerical_columns = ['glucose', 'totChol', 'cigsPerDay', 'BMI', 'heartRate']\n",
    "heart_df[numerical_columns] = heart_df[numerical_columns].apply(lambda x: x.fillna(x.median()))\n",
    "\n",
    "# impute missing values for categorical data with mode\n",
    "categorical_columns = ['education', 'BPMeds']\n",
    "heart_df[categorical_columns] = heart_df[categorical_columns].apply(lambda x: x.fillna(x.mode().iloc[0]))\n",
    "\n",
    "\n",
    "# Check the frequency of null values\n",
    "print(heart_df.isnull().sum(axis=0).sort_values(ascending = False))"
   ]
  },
  {
   "cell_type": "markdown",
   "metadata": {},
   "source": [
    "Now, we are going to justify approach to handling negative amounts."
   ]
  },
  {
   "cell_type": "code",
   "execution_count": 12,
   "metadata": {},
   "outputs": [
    {
     "name": "stdout",
     "output_type": "stream",
     "text": [
      "age              0\n",
      "cigsPerDay       0\n",
      "totChol          0\n",
      "sysBP            0\n",
      "diaBP            0\n",
      "BMI              0\n",
      "heartRate        0\n",
      "glucose          0\n",
      "Heart_ stroke    0\n",
      "dtype: int64\n"
     ]
    }
   ],
   "source": [
    "# Investigate rows with negative values for any column\n",
    "\n",
    "# Create a function to count negative values across all columns\n",
    "def count_negative_values(df):\n",
    "    \n",
    "    # Filter for columns with numeric data types\n",
    "    numeric_cols = df.select_dtypes(include=['number']).columns\n",
    "    \n",
    "    # Apply a lambda function to check for negative values across each numeric column\n",
    "    negative_counts = df[numeric_cols].apply(lambda x: (x < 0).sum())\n",
    "    \n",
    "    # Sort the counts in descending order\n",
    "    sorted_negative_counts = negative_counts.sort_values(ascending=False)\n",
    "    return sorted_negative_counts\n",
    "\n",
    "\n",
    "# Call the function and print the results\n",
    "negative_values = count_negative_values(heart_df)\n",
    "print(negative_values)"
   ]
  },
  {
   "cell_type": "markdown",
   "metadata": {},
   "source": [
    "No data preparation is needed to change negative values in our dataset. \n",
    "\n",
    "Before we move on, we will look for any imbalances in the dataset regarding positive vs. negative stroke diagnoses counts."
   ]
  },
  {
   "cell_type": "code",
   "execution_count": 31,
   "metadata": {},
   "outputs": [
    {
     "name": "stdout",
     "output_type": "stream",
     "text": [
      "Heart_ stroke\n",
      "0    3226\n",
      "1     526\n",
      "Name: count, dtype: Int64\n"
     ]
    }
   ],
   "source": [
    "print(heart_df['Heart_ stroke'].value_counts())"
   ]
  },
  {
   "cell_type": "markdown",
   "metadata": {},
   "source": [
    "As we can see, there is a large imbalance between positive and negative entries. We will use oversampling later on to try and combat this.\n",
    "\n",
    "Next, we will remove outliers based on IQR. We will remove entries where a value in one of its columns is outside of the IQR. "
   ]
  },
  {
   "cell_type": "code",
   "execution_count": 14,
   "metadata": {},
   "outputs": [
    {
     "name": "stdout",
     "output_type": "stream",
     "text": [
      "shape before cleaning: (4238, 16)\n",
      "shape after cleaning: (3752, 16)\n"
     ]
    }
   ],
   "source": [
    "# define function to remove outliers for each numerical column based on IQR\n",
    "def remove_outliers(df, column_list):\n",
    "    for column in column_list:\n",
    "        q1 = df[column].quantile(0.25)\n",
    "        q3 = df[column].quantile(0.75)\n",
    "        iqr = q3 - q1\n",
    "        lower_bound = q1 - (1.5 * iqr)\n",
    "        upper_bound = q3 + (1.5 * iqr)\n",
    "        df = df[(df[column] >= lower_bound) & (df[column] <= upper_bound)]\n",
    "    return df\n",
    "\n",
    "numerical_columns = ['glucose', 'totChol', 'cigsPerDay', 'BMI', 'heartRate']\n",
    "print(\"shape before cleaning:\", heart_df.shape)\n",
    "heart_df = remove_outliers(heart_df, numerical_columns)\n",
    "print(\"shape after cleaning:\", heart_df.shape)\n",
    "\n"
   ]
  },
  {
   "cell_type": "markdown",
   "metadata": {},
   "source": [
    "We are now done with preparing the data, so we will begin doing some visualizations to help us get a better understanding of the dataset and help inform our analysis later on. We will start by looking at some of the explanatory variables and their potential relation to whether or not a patient had a heart stroke to find potential correlations. "
   ]
  },
  {
   "cell_type": "markdown",
   "metadata": {},
   "source": [
    "## Univariate Analysis for Age"
   ]
  },
  {
   "cell_type": "code",
   "execution_count": 15,
   "metadata": {},
   "outputs": [
    {
     "data": {
      "image/png": "[encoded data removed]",
      "text/plain": [
       "<Figure size 800x600 with 1 Axes>"
      ]
     },
     "metadata": {},
     "output_type": "display_data"
    },
    {
     "name": "stdout",
     "output_type": "stream",
     "text": [
      "\n",
      "Additional info about the age column is as follows:\n",
      "Mean Age: 49.26\n",
      "Mode Age: 40 (Count: 180)\n",
      "Skewness of Age: 0.27\n",
      "Column has a right-skew.\n"
     ]
    }
   ],
   "source": [
    "# Univariate Analysis for Age\n",
    "plt.figure(figsize=(8, 6))\n",
    "sns.histplot(heart_df['age'], bins=25, kde=True, color='purple')\n",
    "plt.title('Age Distribution')\n",
    "plt.xlabel('Age')\n",
    "plt.ylabel('Count')\n",
    "plt.show()\n",
    "\n",
    "# Extra information for Age\n",
    "age_mean = heart_df['age'].mean().round(2)\n",
    "age_mode = heart_df['age'].mode().values[0].round(2)\n",
    "age_mode_count = heart_df['age'].value_counts().max()  \n",
    "age_skewness = heart_df['age'].skew().round(2)\n",
    "\n",
    "print(\"\\nAdditional info about the age column is as follows:\")\n",
    "print(f\"Mean Age: {age_mean}\")\n",
    "print(f\"Mode Age: {age_mode} (Count: {age_mode_count})\")\n",
    "\n",
    "print(f\"Skewness of Age: {age_skewness}\")\n",
    "\n",
    "# Finding the skew pattern\n",
    "if age_skewness > 0:\n",
    "    print(\"Column has a right-skew.\")\n",
    "elif age_skewness < 0:\n",
    "    print(\"Column has a left-skew.\")\n",
    "else:\n",
    "    print(\"Column is symmetric.\")"
   ]
  },
  {
   "cell_type": "markdown",
   "metadata": {},
   "source": [
    "The average age of individuals in the dataset is approximately 49.26 years. The most frequent age observed is 40 years, with a count of 180 occurrences. This indicates that 40 is the age most individuals in the dataset share. The skewness value of 0.27 indicates a slight right-skew in the age distribution. This means that the distribution is slightly asymmetrical, with a longer tail on the right side. This suggests that there are relatively more individuals with ages older than the mean age, pulling the distribution towards the right. This skewness pattern implies that while the majority of individuals are clustered around the mean age, there's a smaller but noticeable number of individuals who are older than the mean age."
   ]
  },
  {
   "cell_type": "markdown",
   "metadata": {},
   "source": [
    "## Correlation between Age and Total Cholesterol"
   ]
  },
  {
   "cell_type": "code",
   "execution_count": 16,
   "metadata": {},
   "outputs": [
    {
     "data": {
      "image/png": "[encoded data removed]",
      "text/plain": [
       "<Figure size 900x600 with 1 Axes>"
      ]
     },
     "metadata": {},
     "output_type": "display_data"
    },
    {
     "name": "stdout",
     "output_type": "stream",
     "text": [
      "\n",
      "More info about the Relationship between Age and Total Cholesterol:\n",
      "Correlation between Age and Total Cholesterol: 0.27213490707753013\n",
      "P-value: 1.0563100327083203e-64\n",
      "The correlation strength is positive correlation.\n",
      "The correlation is pretty weak.\n"
     ]
    }
   ],
   "source": [
    "from scipy.stats import pearsonr\n",
    "\n",
    "# correlation between Age and Total Cholesterol (totChol)\n",
    "plt.figure(figsize=(9, 6))\n",
    "sns.scatterplot(x='age', y='totChol', data=heart_df, color='blue')\n",
    "plt.title('Correlation between Age and Total Cholesterol')\n",
    "plt.xlabel('Age')\n",
    "plt.ylabel('Total Cholesterol')\n",
    "plt.show()\n",
    "\n",
    "# Calculating the Pearson Correlation coefficient\n",
    "correlation, p_value = pearsonr(heart_df['age'], heart_df['totChol'])\n",
    "\n",
    "print(\"\\nMore info about the Relationship between Age and Total Cholesterol:\")\n",
    "print(f\"Correlation between Age and Total Cholesterol: {correlation}\")\n",
    "print(f\"P-value: {p_value}\")\n",
    "\n",
    "# Finding the correlation strength\n",
    "if correlation > 0:\n",
    "    strength = \"positive correlation\"\n",
    "elif correlation < 0:\n",
    "    strength = \"negative correlation\"\n",
    "else:\n",
    "    strength = \"no correlation\"\n",
    "\n",
    "print(f\"The correlation strength is {strength}.\")\n",
    "\n",
    "# More analysis \n",
    "if abs(correlation) >= 0.7:\n",
    "    print(\"The correlation is quite strong.\")\n",
    "elif 0.5 <= abs(correlation) < 0.7:\n",
    "    print(\"The correlation tends to be moderate.\")\n",
    "else:\n",
    "    print(\"The correlation is pretty weak.\")\n",
    "\n"
   ]
  },
  {
   "cell_type": "markdown",
   "metadata": {},
   "source": [
    "The positive correlation suggests that, in general, as individuals age, their total cholesterol levels tend to increase. However, the correlation coefficient of 0.27 indicates that age explains only a small portion of the variation in total cholesterol levels. Other factors beyond age likely play a more substantial role in determining total cholesterol levels. Since the correlation is weak, it implies that age alone is not a strong predictor of total cholesterol levels. Other factors such as diet, genetics, and lifestyle choices may have more significant influences on total cholesterol levels."
   ]
  },
  {
   "cell_type": "markdown",
   "metadata": {},
   "source": [
    "## Chi Square Test"
   ]
  },
  {
   "cell_type": "code",
   "execution_count": 17,
   "metadata": {},
   "outputs": [
    {
     "data": {
      "image/png": "[encoded data removed]",
      "text/plain": [
       "<Figure size 1000x600 with 2 Axes>"
      ]
     },
     "metadata": {},
     "output_type": "display_data"
    },
    {
     "name": "stdout",
     "output_type": "stream",
     "text": [
      "Chi-square statistic: 36.01790558591728\n",
      "P-value: 1.955126414846761e-09\n"
     ]
    }
   ],
   "source": [
    "import numpy as np\n",
    "import pandas as pd\n",
    "import seaborn as sns\n",
    "import matplotlib.pyplot as plt\n",
    "from scipy.stats import chi2_contingency\n",
    "\n",
    "# Calculate observed frequencies\n",
    "observed = pd.crosstab(heart_df['Gender'], heart_df['Heart_ stroke'])\n",
    "\n",
    "# Perform chi-square test\n",
    "chi2, p, _, _ = chi2_contingency(observed)\n",
    "\n",
    "# Calculate expected frequencies\n",
    "expected = pd.DataFrame(chi2_contingency(observed)[3], index=observed.index, columns=observed.columns)\n",
    "\n",
    "# Plot observed and expected frequencies\n",
    "plt.figure(figsize=(10, 6))\n",
    "\n",
    "# Bar plot for observed frequencies\n",
    "plt.subplot(1, 2, 1)\n",
    "sns.barplot(data=observed.reset_index().melt(id_vars='Gender'), x='Gender', y='value', hue='Heart_ stroke')\n",
    "plt.title('Observed Frequencies')\n",
    "\n",
    "# Bar plot for expected frequencies\n",
    "plt.subplot(1, 2, 2)\n",
    "sns.barplot(data=expected.reset_index().melt(id_vars='Gender'), x='Gender', y='value', hue='Heart_ stroke')\n",
    "plt.title('Expected Frequencies')\n",
    "\n",
    "plt.tight_layout()\n",
    "plt.show()\n",
    "\n",
    "# Print chi-square test results\n",
    "print(f\"Chi-square statistic: {chi2}\")\n",
    "print(f\"P-value: {p}\")\n"
   ]
  },
  {
   "cell_type": "markdown",
   "metadata": {},
   "source": [
    "The chi-square statistic value of 36.01 indicates a significant association between the variables 'Gender' and 'Heart_ stroke'. This is further supported by the very low p-value (1.96e-09), which is well below the typical significance level of 0.05. Therefore, we reject the null hypothesis and conclude that there is a statistically significant relationship between gender and the occurrence of heart stroke."
   ]
  },
  {
   "cell_type": "markdown",
   "metadata": {},
   "source": [
    "# Partion the Data into Train/Test Set\n",
    "- encode any categorical data\n",
    "- normalize numeric data.\n",
    "\n",
    "This step is necessary before we explore the machine learning algorithms."
   ]
  },
  {
   "cell_type": "code",
   "execution_count": 18,
   "metadata": {},
   "outputs": [
    {
     "name": "stdout",
     "output_type": "stream",
     "text": [
      "Index(['age', 'cigsPerDay', 'totChol', 'sysBP', 'diaBP', 'BMI', 'heartRate',\n",
      "       'glucose', 'Heart_ stroke', 'Gender_Male', 'education_postgraduate',\n",
      "       'education_primaryschool', 'education_uneducated', 'currentSmoker_1',\n",
      "       'BPMeds_1.0', 'prevalentStroke_yes', 'prevalentHyp_1', 'diabetes_1'],\n",
      "      dtype='object')\n"
     ]
    }
   ],
   "source": [
    "# encode categorical data using get_dummies\n",
    "heart_df_encoded = pd.get_dummies(heart_df, drop_first=True)\n",
    "print(heart_df_encoded.columns)"
   ]
  },
  {
   "cell_type": "code",
   "execution_count": 19,
   "metadata": {},
   "outputs": [],
   "source": [
    "\n",
    "# partition data\n",
    "# input features\n",
    "X = heart_df_encoded[['age', 'cigsPerDay', 'totChol', 'sysBP', 'diaBP', 'BMI', 'heartRate',\n",
    "                      'glucose', 'Gender_Male', 'education_postgraduate', 'education_primaryschool',\n",
    "                      'education_uneducated', 'currentSmoker_1', 'BPMeds_1.0', 'prevalentStroke_yes',\n",
    "                      'prevalentHyp_1', 'diabetes_1']]\n",
    "# target feature\n",
    "y   = heart_df_encoded['Heart_ stroke']\n",
    "\n",
    "# train test split\n",
    "X_train, X_test, y_train, y_test = train_test_split(X,              #the input features\n",
    "                                                    y,              #the label\n",
    "                                                    test_size=0.3,  #set aside 30% of the data as the test set\n",
    "                                                    random_state=7, #reproduce the results\n",
    "                                                    stratify=y      #preserve the distribution of the labels\n",
    "                                                   )"
   ]
  },
  {
   "cell_type": "code",
   "execution_count": 20,
   "metadata": {},
   "outputs": [],
   "source": [
    "# set variable names for later on\n",
    "X_train_final = X_train\n",
    "X_test_final = X_test"
   ]
  },
  {
   "cell_type": "code",
   "execution_count": 21,
   "metadata": {},
   "outputs": [
    {
     "name": "stdout",
     "output_type": "stream",
     "text": [
      "Heart_ stroke\n",
      "0    2258\n",
      "1     368\n",
      "Name: count, dtype: Int64\n",
      "After oversampling:  Heart_ stroke\n",
      "0    2258\n",
      "1    2258\n",
      "Name: count, dtype: Int64\n"
     ]
    }
   ],
   "source": [
    "# Normalize the numeric features\n",
    "numeric_columns = ['age', 'cigsPerDay', 'totChol', 'sysBP', 'diaBP', 'BMI', 'heartRate', 'glucose']\n",
    "scaler = StandardScaler()\n",
    "X_train_final[numeric_columns] = scaler.fit_transform(X_train_final[numeric_columns])\n",
    "X_test_final[numeric_columns] = scaler.transform(X_test_final[numeric_columns])\n",
    "\n",
    "# illustrate imbalance in dataset\n",
    "print(y_train.value_counts())\n",
    "\n",
    "from imblearn.over_sampling import RandomOverSampler\n",
    "# create oversampler\n",
    "ros = RandomOverSampler(random_state=7)\n",
    "# perform oversampling on training data (to avoid data leak)\n",
    "X_train_final, y_train = ros.fit_resample(X_train_final, y_train)\n",
    "\n",
    "# show balance between classes after oversampling\n",
    "print(\"After oversampling: \", y_train.value_counts())"
   ]
  },
  {
   "cell_type": "code",
   "execution_count": 22,
   "metadata": {},
   "outputs": [
    {
     "name": "stdout",
     "output_type": "stream",
     "text": [
      "        age  cigsPerDay   totChol     sysBP     diaBP       BMI  heartRate  \\\n",
      "0 -0.958258   -0.338109  0.140383 -1.142231 -1.177905 -0.569634  -0.903343   \n",
      "1  1.494815    1.801554 -0.203251 -1.190881 -1.265134 -0.451597  -1.367567   \n",
      "2 -0.491006   -0.766042 -0.399612 -0.120570  0.697515  1.929300   0.489326   \n",
      "3  1.144376   -0.766042  1.318554  1.338945  0.697515  2.127948  -0.439120   \n",
      "4  2.078881   -0.766042 -0.301431  1.144343  2.093177  0.363148   0.953549   \n",
      "5 -0.958258    0.517756  0.115837 -1.434134 -1.134291  0.432242   0.489326   \n",
      "6  0.093059   -0.766042  0.140383  0.706488  1.046431  0.982123  -1.367567   \n",
      "7  1.144376   -0.766042  2.104001  2.506557  1.395346  1.390935   1.232083   \n",
      "8  0.326685   -0.766042  1.097647  0.219983  0.348600  0.452395   2.346218   \n",
      "9  0.093059    0.945689 -0.031434  1.338945  0.523058  0.809386  -0.624810   \n",
      "\n",
      "    glucose  Gender_Male  education_postgraduate  education_primaryschool  \\\n",
      "0  0.532395        False                   False                    False   \n",
      "1  0.940471         True                   False                    False   \n",
      "2 -0.079719         True                   False                    False   \n",
      "3  0.940471        False                   False                    False   \n",
      "4 -0.385777         True                   False                    False   \n",
      "5  0.022300         True                   False                     True   \n",
      "6 -0.997891         True                   False                    False   \n",
      "7  0.022300        False                   False                     True   \n",
      "8 -0.589815        False                   False                    False   \n",
      "9  1.654605         True                   False                    False   \n",
      "\n",
      "   education_uneducated  currentSmoker_1  BPMeds_1.0  prevalentStroke_yes  \\\n",
      "0                  True             True       False                False   \n",
      "1                  True             True       False                False   \n",
      "2                  True            False       False                False   \n",
      "3                  True            False       False                False   \n",
      "4                  True            False       False                False   \n",
      "5                 False             True       False                False   \n",
      "6                  True            False       False                False   \n",
      "7                 False            False       False                False   \n",
      "8                  True            False       False                False   \n",
      "9                  True             True       False                False   \n",
      "\n",
      "   prevalentHyp_1  diabetes_1  \n",
      "0           False       False  \n",
      "1           False       False  \n",
      "2            True       False  \n",
      "3            True       False  \n",
      "4            True       False  \n",
      "5           False       False  \n",
      "6           False       False  \n",
      "7            True       False  \n",
      "8           False       False  \n",
      "9            True       False  \n",
      "Final features shape (train): (4516, 17)\n",
      "Final features shape (test): (1126, 17)\n"
     ]
    }
   ],
   "source": [
    "# View the prepared data\n",
    "print(X_train_final.head(10))\n",
    "print(\"Final features shape (train):\", X_train_final.shape)\n",
    "print(\"Final features shape (test):\", X_test_final.shape)"
   ]
  },
  {
   "cell_type": "markdown",
   "metadata": {},
   "source": [
    "X_train_final and X_test_final now have the original numerical features plus the one-hot encoded 'Gender','education', 'currentSmoker','BPMeds','prevalentStroke', 'prevalentHyp', 'diabetes' feature variables. Now we have X_train_final and X_test_final prepared with numerical and encoded categorical features, which we can use to train and evaluate the model."
   ]
  },
  {
   "cell_type": "markdown",
   "metadata": {},
   "source": [
    "Since the target variable ('Heart_stroke' is categorical (e.g., predicting whether a person will have a heart stroke or not, typically denoted by 0 or 1) thus it isn't continous data, we are dealing with a classification problem. \n",
    "\n",
    "we can use:\n",
    "\n",
    "- Support Vector Machines (SVM)\n",
    "- k-Nearest Neighbors (kNN) \n",
    "- Random Forest Classifier \n",
    "\n",
    "\n",
    "In the following models, we will use GridSearchCV for hyperparameter tuning after creating the initial model. We use accuracy, precision, and recall as scoring metrics and use precision as the refitted estimator, meaning precision will be used to return the best model. We use precision as the refitted estimator because it tends to be most important in the medical field, as a low precision means more false positives, which can be very expensive (as more tests and care that may be unnecessary could be performed)."
   ]
  },
  {
   "cell_type": "markdown",
   "metadata": {},
   "source": [
    "## SVM model Implementation \n",
    "In order to build the model that predicts our target variable, \"Heart_ stroke\", we are going to leverage Support Vector Machines model. We are going to use GridSearchCV to tune at least two hyperparameters. We will also show how the best model from GridSearchCV performs on the training data to illustrate any overfitting (or lack thereof)."
   ]
  },
  {
   "cell_type": "code",
   "execution_count": 23,
   "metadata": {},
   "outputs": [
    {
     "name": "stdout",
     "output_type": "stream",
     "text": [
      "Initial Model: SVC(random_state=7)\n",
      "Initial Model Metrics:\n",
      "Accuracy: 0.68\n",
      "Precision: 0.22\n",
      "Recall: 0.52\n",
      "F1-score: 0.31\n",
      "Confusion Matrix:\n",
      " [[682 286]\n",
      " [ 76  82]]\n",
      "\n",
      "\n",
      "\n",
      "Best Model: SVC(C=10, random_state=7)\n",
      "Best Parameters: {'C': 10, 'gamma': 'scale', 'kernel': 'rbf'}\n",
      "Best Model Metrics:\n",
      "Accuracy: 0.74\n",
      "Precision: 0.22\n",
      "Recall: 0.33\n",
      "F1-score: 0.26\n",
      "Confusion Matrix:\n",
      " [[785 183]\n",
      " [106  52]]\n",
      "\n",
      "\n",
      "\n",
      "Best Model (on training data): SVC(random_state=7)\n",
      "Best Model Metrics (on training data):\n",
      "Accuracy: 0.94\n",
      "Precision: 0.91\n",
      "Recall: 0.97\n",
      "F1-score: 0.94\n",
      "Confusion Matrix:\n",
      " [[2042  216]\n",
      " [  77 2181]]\n",
      "\n",
      "\n",
      "\n"
     ]
    }
   ],
   "source": [
    "# SVM for predicting the target variable. \n",
    "\n",
    "#NOTE : check train and test scores for model, train on both prior to using y_test\n",
    "\n",
    "# Instantiate the initial Support Vector Machine model\n",
    "svm_model = SVC(random_state=7) #random state for reproducibility\n",
    "svm_model.fit(X_train_final, y_train)\n",
    "y_pred_svm = svm_model.predict(X_test_final)\n",
    "\n",
    "# Calculate various metrics\n",
    "init_model_svm_accuracy = accuracy_score(y_test, y_pred_svm)\n",
    "init_model_svm_precision = precision_score(y_test, y_pred_svm)\n",
    "init_model_svm_recall = recall_score(y_test, y_pred_svm)\n",
    "init_model_svm_f1 = f1_score(y_test, y_pred_svm)\n",
    "init_model_svm_confusion_matrix = confusion_matrix(y_test, y_pred_svm)\n",
    "\n",
    "\n",
    "# print metrics\n",
    "print(\"Initial Model:\", svm_model)\n",
    "print(\"Initial Model Metrics:\")\n",
    "print(\"Accuracy: {:.2f}\".format(init_model_svm_accuracy))\n",
    "print(\"Precision: {:.2f}\".format(init_model_svm_precision))\n",
    "print(\"Recall: {:.2f}\".format(init_model_svm_recall))\n",
    "print(\"F1-score: {:.2f}\".format(init_model_svm_f1))\n",
    "print(\"Confusion Matrix:\\n\", init_model_svm_confusion_matrix)\n",
    "print(\"\\n\\n\")\n",
    "\n",
    "\n",
    "# Set up the hyperparameter grid for tuning\n",
    "param_grid_svm = {\n",
    "    'C': [0.1, 1, 10],  # Example values, should be fine-tuned based on the dataset\n",
    "    'gamma': ['scale', 'auto'],  # Example values, should be fine-tuned based on the dataset\n",
    "    'kernel': ['rbf', 'linear', 'poly'] # Type of kernel \n",
    "}\n",
    "\n",
    "# param_grid is a dictionary containig the hyperparameters 'C' and 'gamma' \n",
    "# that I wish to tune, and 'kernel' is also included with 'rbf' specified as it is the \n",
    "# most common kernel used with SVMs. \n",
    "\n",
    "svm_model = SVC(random_state=7)\n",
    "# Instantiate GridSearchCV to tuen hyperparameters and perform cross-validation\n",
    "svm_grid_search = GridSearchCV(svm_model, param_grid_svm, cv=5, scoring=['recall', 'precision'], return_train_score=True, refit='recall')\n",
    "\n",
    "# Train the model using the training set and perform hyperparameter tuning\n",
    "svm_grid_search.fit(X_train_final, y_train)\n",
    "\n",
    "# Evaluate the model by acquiring the best estimator and its parameter\n",
    "best_model_svm = svm_grid_search.best_estimator_\n",
    "best_params_svm = svm_grid_search.best_params_\n",
    "best_score_svm = svm_grid_search.best_score_\n",
    "\n",
    "# Display the best estimator(model) and its parameters\n",
    "print(\"Best Model:\", best_model_svm)\n",
    "print(\"Best Parameters:\", best_params_svm)\n",
    "\n",
    "# Evaluate the best model on the test set\n",
    "y_pred_svm = best_model_svm.predict(X_test_final)\n",
    "\n",
    "# Calculate various metrics\n",
    "best_model_svm_accuracy = accuracy_score(y_test, y_pred_svm)\n",
    "best_model_svm_precision = precision_score(y_test, y_pred_svm)\n",
    "best_model_svm_recall = recall_score(y_test, y_pred_svm)\n",
    "best_model_svm_f1 = f1_score(y_test, y_pred_svm)\n",
    "best_model_svm_confusion_matrix = confusion_matrix(y_test, y_pred_svm)\n",
    "\n",
    "# print metrics\n",
    "print(\"Best Model Metrics:\")\n",
    "print(\"Accuracy: {:.2f}\".format(best_model_svm_accuracy))\n",
    "print(\"Precision: {:.2f}\".format(best_model_svm_precision))\n",
    "print(\"Recall: {:.2f}\".format(best_model_svm_recall))\n",
    "print(\"F1-score: {:.2f}\".format(best_model_svm_f1))\n",
    "print(\"Confusion Matrix:\\n\", best_model_svm_confusion_matrix)\n",
    "print(\"\\n\\n\")\n",
    "\n",
    "# predict on y_train (to check overfitting)\n",
    "y_pred_svm = best_model_svm.predict(X_train_final)\n",
    "# Calculate various metrics\n",
    "best_model_svm_accuracy = accuracy_score(y_train, y_pred_svm)\n",
    "best_model_svm_precision = precision_score(y_train, y_pred_svm)\n",
    "best_model_svm_recall = recall_score(y_train, y_pred_svm)\n",
    "best_model_svm_f1 = f1_score(y_train, y_pred_svm)\n",
    "best_model_svm_confusion_matrix = confusion_matrix(y_train, y_pred_svm)\n",
    "\n",
    "# print metrics\n",
    "print(\"Best Model (on training data):\", svm_model)\n",
    "print(\"Best Model Metrics (on training data):\")\n",
    "print(\"Accuracy: {:.2f}\".format(best_model_svm_accuracy))\n",
    "print(\"Precision: {:.2f}\".format(best_model_svm_precision))\n",
    "print(\"Recall: {:.2f}\".format(best_model_svm_recall))\n",
    "print(\"F1-score: {:.2f}\".format(best_model_svm_f1))\n",
    "print(\"Confusion Matrix:\\n\", best_model_svm_confusion_matrix)\n",
    "print(\"\\n\\n\")"
   ]
  },
  {
   "cell_type": "code",
   "execution_count": 24,
   "metadata": {},
   "outputs": [
    {
     "data": {
      "text/html": [
       "<div>\n",
       "<style scoped>\n",
       "    .dataframe tbody tr th:only-of-type {\n",
       "        vertical-align: middle;\n",
       "    }\n",
       "\n",
       "    .dataframe tbody tr th {\n",
       "        vertical-align: top;\n",
       "    }\n",
       "\n",
       "    .dataframe thead th {\n",
       "        text-align: right;\n",
       "    }\n",
       "</style>\n",
       "<table border=\"1\" class=\"dataframe\">\n",
       "  <thead>\n",
       "    <tr style=\"text-align: right;\">\n",
       "      <th></th>\n",
       "      <th>mean_train_recall</th>\n",
       "      <th>mean_test_recall</th>\n",
       "      <th>mean_train_precision</th>\n",
       "      <th>mean_test_precision</th>\n",
       "    </tr>\n",
       "  </thead>\n",
       "  <tbody>\n",
       "    <tr>\n",
       "      <th>12</th>\n",
       "      <td>0.959698</td>\n",
       "      <td>0.931362</td>\n",
       "      <td>0.909405</td>\n",
       "      <td>0.807332</td>\n",
       "    </tr>\n",
       "    <tr>\n",
       "      <th>15</th>\n",
       "      <td>0.889946</td>\n",
       "      <td>0.851652</td>\n",
       "      <td>0.828322</td>\n",
       "      <td>0.763610</td>\n",
       "    </tr>\n",
       "    <tr>\n",
       "      <th>14</th>\n",
       "      <td>0.872453</td>\n",
       "      <td>0.840140</td>\n",
       "      <td>0.817928</td>\n",
       "      <td>0.751052</td>\n",
       "    </tr>\n",
       "    <tr>\n",
       "      <th>6</th>\n",
       "      <td>0.836249</td>\n",
       "      <td>0.812236</td>\n",
       "      <td>0.773509</td>\n",
       "      <td>0.730138</td>\n",
       "    </tr>\n",
       "    <tr>\n",
       "      <th>9</th>\n",
       "      <td>0.807573</td>\n",
       "      <td>0.786553</td>\n",
       "      <td>0.730740</td>\n",
       "      <td>0.704613</td>\n",
       "    </tr>\n",
       "  </tbody>\n",
       "</table>\n",
       "</div>"
      ],
      "text/plain": [
       "    mean_train_recall  mean_test_recall  mean_train_precision  \\\n",
       "12           0.959698          0.931362              0.909405   \n",
       "15           0.889946          0.851652              0.828322   \n",
       "14           0.872453          0.840140              0.817928   \n",
       "6            0.836249          0.812236              0.773509   \n",
       "9            0.807573          0.786553              0.730740   \n",
       "\n",
       "    mean_test_precision  \n",
       "12             0.807332  \n",
       "15             0.763610  \n",
       "14             0.751052  \n",
       "6              0.730138  \n",
       "9              0.704613  "
      ]
     },
     "execution_count": 24,
     "metadata": {},
     "output_type": "execute_result"
    }
   ],
   "source": [
    "# display the cv results for the train and test set\n",
    "cv_results_svm = pd.DataFrame(svm_grid_search.cv_results_)\n",
    "cv_results_svm = cv_results_svm.sort_values('mean_test_recall', ascending=False)\n",
    "cv_results_svm[['mean_train_recall', 'mean_test_recall', 'mean_train_precision', 'mean_test_precision']].head()"
   ]
  },
  {
   "cell_type": "markdown",
   "metadata": {},
   "source": [
    "The only difference between the initial model and the tuned one is that the latter has a slightly higher F1-score of 0.06.\n",
    "\n",
    "Next, based on the results, the best model obtained from GridSearchCV uses an SVC with C=10 and gamma = 'scale' with the 'rbf' kernel. The best cross-validation score on the training set is approximately 0.93 for recall and 0.91 for precision, which indicates that the model has a reasonably good fit to the training data, suggesting low bias. A model with low bias accurately captures the true relationships between the features and the target variable.\n",
    "\n",
    "The score on the test set is approximately 0.33 for recall and 0.22 for precision, which is slightly lower than the mean cross-validation score. This suggests that the model has low variance. This means the model's performance is consistent across different data samples, and it generalizes well to unseen data without overfitting.\n",
    "\n",
    "Accuracy: Accuracy measures the proportion of correctly predicted instances out of the total instances. In this case, the SVM model achieved an accuracy of 74%, meaning it correctly predicted the outcome for 74% of the instances in the test set.\n",
    "\n",
    "Precision: Precision measures the proportion of true positive predictions out of all positive predictions made by the model. In this context, precision refers to the proportion of correctly predicted heart stroke cases out of all predicted heart stroke cases. The precision of 0.22 indicates that when the model predicts an individual will have a heart stroke, it is correct approximately 22% of the time.\n",
    "\n",
    "Recall: Recall (also known as sensitivity) measures the proportion of true positive predictions out of all actual positive instances in the data. In this context, recall represents the ability of the model to correctly identify individuals who actually had a heart stroke. The recall of 0.33 suggests that the model only correctly identifies approximately 33% of the individuals who actually had a heart stroke.\n",
    "\n",
    "F1-score: F1-score is the harmonic mean of precision and recall. It provides a single score that balances both precision and recall. F1-score is particularly useful when dealing with imbalanced classes, as it considers both false positives and false negatives. The F1-score of 0.26 indicates that the model's overall performance is moderate, considering both precision and recall.\n",
    "\n",
    "Confusion Matrix: A confusion matrix is a table that summarizes the performance of a classification algorithm. It presents the number of true positives (TP), true negatives (TN), false positives (FP), and false negatives (FN). In this case: TN (True Negative): 785, correctly predicted non-heart stroke cases. FP (False Positive): 183, incorrectly predicted heart stroke cases. FN (False Negative): 106, incorrectly predicted non-heart stroke cases. TP (True Positive): 52, correctly predicted heart stroke cases.\n",
    "\n",
    "We can also observe that the best model seems to overfit, as its scores on the training data are nearly perfect, while its scores on the test data are certainly not so, indicating that the model fits too closely to the training data and does not perform as well on new data. \n",
    "\n",
    "So in general, we can say: Starting with the SVM model, it achieved an accuracy of approximately 74%, indicating that it correctly predicted the occurrence or absence of heart strokes for the majority of instances. However, the precision score was notably low at 22%, suggesting that among the instances classified as positive (predicting a heart stroke), only 22% were true positives. This low precision is concerning in the medical field as it implies a relatively high rate of false positives, which can lead to unnecessary interventions or treatments for patients who do not actually require them. The recall score of 33% further supports this, indicating that the model identified only a moderate proportion of actual positive cases. The F1-score, which balances precision and recall, was also moderate at 26%, reflecting the overall moderate performance of the model in correctly identifying positive cases. The confusion matrix reveals a relatively large number of false positives (183) compared to true positives (52), further highlighting the model's tendency to overpredict positive cases."
   ]
  },
  {
   "cell_type": "markdown",
   "metadata": {},
   "source": [
    "## k-Nearest Neighbors Model Implementation\n",
    "\n",
    "Our next model will be k-nearest neighbors. We will use GridSearchCV to tune the n-neighbors value, the weighting scheme, and the distance metric."
   ]
  },
  {
   "cell_type": "code",
   "execution_count": 25,
   "metadata": {},
   "outputs": [
    {
     "name": "stdout",
     "output_type": "stream",
     "text": [
      "Initial Model Metrics:\n",
      "Accuracy: 0.68\n",
      "Precision: 0.20\n",
      "Recall: 0.45\n",
      "F1-score: 0.28\n",
      "Confusion Matrix:\n",
      " [[692 276]\n",
      " [ 87  71]]\n",
      "\n",
      "\n",
      "\n",
      "Best Model: KNeighborsClassifier(n_neighbors=7, weights='distance')\n",
      "Best Parameters: {'metric': 'minkowski', 'n_neighbors': 7, 'weights': 'distance'}\n",
      "Best Model Metrics:\n",
      "Accuracy: 0.65\n",
      "Precision: 0.21\n",
      "Recall: 0.53\n",
      "F1-score: 0.30\n",
      "Confusion Matrix:\n",
      " [[647 321]\n",
      " [ 74  84]]\n",
      "\n",
      "\n",
      "\n",
      "Best Model Metrics (on training data):\n",
      "Accuracy: 1.00\n",
      "Precision: 1.00\n",
      "Recall: 1.00\n",
      "F1-score: 1.00\n",
      "Confusion Matrix:\n",
      " [[2258    0]\n",
      " [   0 2258]]\n",
      "\n",
      "\n",
      "\n"
     ]
    }
   ],
   "source": [
    "from sklearn.neighbors import KNeighborsClassifier\n",
    "# begin by creating a basic knn model\n",
    "knn = KNeighborsClassifier()\n",
    "knn.fit(X_train_final, y_train)\n",
    "# Evaluate the initial model on the test set\n",
    "y_pred_knn = knn.predict(X_test_final.values)\n",
    "# Calculate various metrics\n",
    "init_model_knn_accuracy = accuracy_score(y_test, y_pred_knn)\n",
    "init_model_knn_precision = precision_score(y_test, y_pred_knn)\n",
    "init_model_knn_recall = recall_score(y_test, y_pred_knn)\n",
    "init_model_knn_f1 = f1_score(y_test, y_pred_knn)\n",
    "init_model_knn_confusion_matrix = confusion_matrix(y_test, y_pred_knn)\n",
    "\n",
    "# print metrics\n",
    "print(\"Initial Model Metrics:\")\n",
    "print(\"Accuracy: {:.2f}\".format(init_model_knn_accuracy))\n",
    "print(\"Precision: {:.2f}\".format(init_model_knn_precision))\n",
    "print(\"Recall: {:.2f}\".format(init_model_knn_recall))\n",
    "print(\"F1-score: {:.2f}\".format(init_model_knn_f1))\n",
    "print(\"Confusion Matrix:\\n\", init_model_knn_confusion_matrix)\n",
    "print(\"\\n\\n\")\n",
    "\n",
    "\n",
    "# create hyperparameter grif for GridSearchCV (contains several n-neighbors values, weighting schemes, and distance metrics)\n",
    "param_grid_knn = {'n_neighbors': [5, 7, 9, 11, 13, 15, 17, 19, 21, 23], 'weights': ['uniform', 'distance'], 'metric': ['minkowski', 'euclidean', 'manhattan']}\n",
    "# perform grid search with cross validation\n",
    "knn = KNeighborsClassifier()\n",
    "knn_grid_search = GridSearchCV(knn, param_grid_knn, cv=5, scoring=['recall', 'precision'], return_train_score=True, refit='recall')\n",
    "# fit and train model on normalized x train values and y train values\n",
    "knn_grid_search.fit(X_train_final, y_train)\n",
    "\n",
    "# Evaluate the model by acquiring the best estimator and its parameter\n",
    "best_model_knn = knn_grid_search.best_estimator_\n",
    "best_params_knn = knn_grid_search.best_params_\n",
    "best_score_knn = knn_grid_search.best_score_\n",
    "\n",
    "# Display the best estimator model) and its parameters\n",
    "print(\"Best Model:\", best_model_knn)\n",
    "print(\"Best Parameters:\", best_params_knn)\n",
    "\n",
    "# Evaluate the best model on the test set\n",
    "y_pred_knn = best_model_knn.predict(X_test_final)\n",
    "# Calculate various metrics\n",
    "best_model_knn_accuracy = accuracy_score(y_test, y_pred_knn)\n",
    "best_model_knn_precision = precision_score(y_test, y_pred_knn)\n",
    "best_model_knn_recall = recall_score(y_test, y_pred_knn)\n",
    "best_model_knn_f1 = f1_score(y_test, y_pred_knn)\n",
    "best_model_knn_confusion_matrix = confusion_matrix(y_test, y_pred_knn)\n",
    "\n",
    "# print metrics\n",
    "print(\"Best Model Metrics:\")\n",
    "print(\"Accuracy: {:.2f}\".format(best_model_knn_accuracy))\n",
    "print(\"Precision: {:.2f}\".format(best_model_knn_precision))\n",
    "print(\"Recall: {:.2f}\".format(best_model_knn_recall))\n",
    "print(\"F1-score: {:.2f}\".format(best_model_knn_f1))\n",
    "print(\"Confusion Matrix:\\n\", best_model_knn_confusion_matrix)\n",
    "print(\"\\n\\n\")\n",
    "\n",
    "# predict on training data (to test overfitting)\n",
    "y_pred_knn = best_model_knn.predict(X_train_final)\n",
    "\n",
    "# Calculate various metrics\n",
    "best_model_knn_accuracy = accuracy_score(y_train, y_pred_knn)\n",
    "best_model_knn_precision = precision_score(y_train, y_pred_knn)\n",
    "best_model_knn_recall = recall_score(y_train, y_pred_knn)\n",
    "best_model_knn_f1 = f1_score(y_train, y_pred_knn)\n",
    "best_model_knn_confusion_matrix = confusion_matrix(y_train, y_pred_knn)\n",
    "\n",
    "# print\n",
    "print(\"Best Model Metrics (on training data):\")\n",
    "print(\"Accuracy: {:.2f}\".format(best_model_knn_accuracy))\n",
    "print(\"Precision: {:.2f}\".format(best_model_knn_precision))\n",
    "print(\"Recall: {:.2f}\".format(best_model_knn_recall))\n",
    "print(\"F1-score: {:.2f}\".format(best_model_knn_f1))\n",
    "print(\"Confusion Matrix:\\n\", best_model_knn_confusion_matrix)\n",
    "print(\"\\n\\n\")\n",
    "\n"
   ]
  },
  {
   "cell_type": "code",
   "execution_count": 26,
   "metadata": {},
   "outputs": [
    {
     "data": {
      "text/html": [
       "<div>\n",
       "<style scoped>\n",
       "    .dataframe tbody tr th:only-of-type {\n",
       "        vertical-align: middle;\n",
       "    }\n",
       "\n",
       "    .dataframe tbody tr th {\n",
       "        vertical-align: top;\n",
       "    }\n",
       "\n",
       "    .dataframe thead th {\n",
       "        text-align: right;\n",
       "    }\n",
       "</style>\n",
       "<table border=\"1\" class=\"dataframe\">\n",
       "  <thead>\n",
       "    <tr style=\"text-align: right;\">\n",
       "      <th></th>\n",
       "      <th>mean_train_recall</th>\n",
       "      <th>mean_test_recall</th>\n",
       "      <th>mean_train_precision</th>\n",
       "      <th>mean_test_precision</th>\n",
       "    </tr>\n",
       "  </thead>\n",
       "  <tbody>\n",
       "    <tr>\n",
       "      <th>15</th>\n",
       "      <td>1.0</td>\n",
       "      <td>0.999558</td>\n",
       "      <td>1.0</td>\n",
       "      <td>0.738270</td>\n",
       "    </tr>\n",
       "    <tr>\n",
       "      <th>11</th>\n",
       "      <td>1.0</td>\n",
       "      <td>0.999558</td>\n",
       "      <td>1.0</td>\n",
       "      <td>0.748261</td>\n",
       "    </tr>\n",
       "    <tr>\n",
       "      <th>19</th>\n",
       "      <td>1.0</td>\n",
       "      <td>0.999558</td>\n",
       "      <td>1.0</td>\n",
       "      <td>0.734626</td>\n",
       "    </tr>\n",
       "    <tr>\n",
       "      <th>23</th>\n",
       "      <td>1.0</td>\n",
       "      <td>0.999558</td>\n",
       "      <td>1.0</td>\n",
       "      <td>0.727926</td>\n",
       "    </tr>\n",
       "    <tr>\n",
       "      <th>17</th>\n",
       "      <td>1.0</td>\n",
       "      <td>0.999558</td>\n",
       "      <td>1.0</td>\n",
       "      <td>0.732464</td>\n",
       "    </tr>\n",
       "  </tbody>\n",
       "</table>\n",
       "</div>"
      ],
      "text/plain": [
       "    mean_train_recall  mean_test_recall  mean_train_precision  \\\n",
       "15                1.0          0.999558                   1.0   \n",
       "11                1.0          0.999558                   1.0   \n",
       "19                1.0          0.999558                   1.0   \n",
       "23                1.0          0.999558                   1.0   \n",
       "17                1.0          0.999558                   1.0   \n",
       "\n",
       "    mean_test_precision  \n",
       "15             0.738270  \n",
       "11             0.748261  \n",
       "19             0.734626  \n",
       "23             0.727926  \n",
       "17             0.732464  "
      ]
     },
     "execution_count": 26,
     "metadata": {},
     "output_type": "execute_result"
    }
   ],
   "source": [
    "# display the cv results for the train and test set\n",
    "cv_results_knn = pd.DataFrame(knn_grid_search.cv_results_)\n",
    "cv_results_knn = cv_results_knn.sort_values('mean_test_recall', ascending=False)\n",
    "cv_results_knn[['mean_train_recall', 'mean_test_recall', 'mean_train_precision', 'mean_test_precision']].head()"
   ]
  },
  {
   "cell_type": "markdown",
   "metadata": {},
   "source": [
    "The initial k-nearest neighbors (kNN) model has an accuracy of 0.68, precision of 0.20, recall of 0.45, and an F1 score of 0.28.\n",
    "\n",
    "Through GridSearchCV, we found that the best model among all the specified parameters is a kNN model with an n_neighbors value of 7, a weighting metric of 'distance', and the 'Minkowski' distance metric. The best mean cross-validation test score was approximately 0.85, indicating that this model has low bias. Although the mean train score is 1.0, which might typically suggest overfitting, the high test score suggests that overfitting is not significant. This indicates that the model has relatively low variance.\n",
    "\n",
    "Accuracy: The kNN model achieves an accuracy of 0.65, indicating that it correctly predicts the outcome for approximately 65% of the cases in the test set. This suggests that the model performs moderately well in classifying individuals as either having or not having a heart stroke.\n",
    "\n",
    "Precision: The precision score of 0.21 means that the kNN model correctly identifies 21% of the predicted positive cases (individuals predicted to have a heart stroke) as true positives. This indicates that when the model predicts a positive outcome, it is somewhat reliable.\n",
    "\n",
    "Recall: With a recall score of 0.53, the kNN model captures 53% of the actual positive cases (individuals who actually had a heart stroke). This suggests that the model has improved in identifying individuals who are truly at risk of having a heart stroke compared to the initial model.\n",
    "\n",
    "F1-score: The F1-score for the kNN model is 0.30, which is moderate. The F1-score provides a balanced assessment of the model's performance, and in this case, it indicates a relatively balanced trade-off between precision and recall.\n",
    "\n",
    "Confusion Matrix: Out of 1126 instances in the test set, the kNN model correctly predicts 647 true negatives (individuals without a heart stroke) and 84 true positives (individuals with a heart stroke). However, it misclassifies 321 cases as false negatives (predicting no heart stroke when it actually occurred) and 74 cases as false positives (predicting a heart stroke when it did not occur).\n",
    "\n",
    "We can also observe that the best model seems to overfit, as its scores on the training data are perfect, while its scores on the test data are certainly not so.\n",
    "\n",
    "In summary, the kNN model achieves an accuracy similar to the SVM model but shows improvement in precision and recall. However, precision is still relatively low, suggesting a notable risk of false positives. The recall score indicates that the model identifies a moderate proportion of actual positive cases. The F1-score suggests a balanced trade-off between precision and recall. The confusion matrix highlights the model's tendency to misclassify cases, with a considerable number of false negatives compared to false positives."
   ]
  },
  {
   "cell_type": "markdown",
   "metadata": {},
   "source": [
    "## Random Forest Classifier Implementation"
   ]
  },
  {
   "cell_type": "code",
   "execution_count": 27,
   "metadata": {},
   "outputs": [
    {
     "name": "stdout",
     "output_type": "stream",
     "text": [
      "Initial Model Metrics:\n",
      "Accuracy: 0.85\n",
      "Precision: 0.43\n",
      "Recall: 0.11\n",
      "F1-score: 0.18\n",
      "Confusion Matrix:\n",
      " [[944  24]\n",
      " [140  18]]\n",
      "Best Model: RandomForestClassifier(n_estimators=50, random_state=42)\n",
      "Best Parameters: {'max_depth': None, 'min_samples_leaf': 1, 'min_samples_split': 2, 'n_estimators': 50}\n",
      "Best Model Metrics:\n",
      "Accuracy: 0.86\n",
      "Precision: 0.47\n",
      "Recall: 0.10\n",
      "F1-score: 0.17\n",
      "Confusion Matrix:\n",
      " [[950  18]\n",
      " [142  16]]\n",
      "\n",
      "\n",
      "\n",
      "Best Model Metrics (on train set):\n",
      "Accuracy: 1.00\n",
      "Precision: 1.00\n",
      "Recall: 1.00\n",
      "F1-score: 1.00\n",
      "Confusion Matrix:\n",
      " [[2258    0]\n",
      " [   0 2258]]\n",
      "\n",
      "\n",
      "\n"
     ]
    }
   ],
   "source": [
    "from sklearn.ensemble import RandomForestClassifier\n",
    "\n",
    "# create rf classifier (random state for reproducibility)\n",
    "rf = RandomForestClassifier(random_state=7)\n",
    "rf.fit(X_train_final, y_train)\n",
    "# Evaluate the best model on the test set\n",
    "y_pred_rf = rf.predict(X_test_final)\n",
    "\n",
    "# Calculate various metrics\n",
    "init_model_rf_accuracy = accuracy_score(y_test, y_pred_rf)\n",
    "init_model_rf_precision = precision_score(y_test, y_pred_rf)\n",
    "init_model_rf_recall = recall_score(y_test, y_pred_rf)\n",
    "init_model_rf_f1 = f1_score(y_test, y_pred_rf)\n",
    "init_model_rf_confusion_matrix = confusion_matrix(y_test, y_pred_rf)\n",
    "\n",
    "# print metrics\n",
    "print(\"Initial Model Metrics:\")\n",
    "print(\"Accuracy: {:.2f}\".format(init_model_rf_accuracy))\n",
    "print(\"Precision: {:.2f}\".format(init_model_rf_precision))\n",
    "print(\"Recall: {:.2f}\".format(init_model_rf_recall))\n",
    "print(\"F1-score: {:.2f}\".format(init_model_rf_f1))\n",
    "print(\"Confusion Matrix:\\n\", init_model_rf_confusion_matrix)\n",
    "\n",
    "# params grid\n",
    "param_grid_rf = {\n",
    "    'max_depth': [None, 10, 20],\n",
    "    'min_samples_leaf': [1, 2, 5],\n",
    "    'min_samples_split': [2, 5, 10],\n",
    "    'n_estimators': [50, 100, 200]\n",
    "    }\n",
    "\n",
    "rf = RandomForestClassifier(random_state=42)\n",
    "# perform grid search with cross validation\n",
    "rf_grid_search = GridSearchCV(rf, param_grid_rf, cv=5, scoring=['recall', 'precision'], return_train_score=True, refit='recall')#, refit='recall')\n",
    "# fit and train model on normalized x train values and y train values\n",
    "rf_grid_search.fit(X_train_final, y_train)\n",
    "\n",
    "# Evaluate the model by acquiring the best estimator and its parameter\n",
    "best_model_rf = rf_grid_search.best_estimator_\n",
    "best_params_rf = rf_grid_search.best_params_\n",
    "best_score_rf = rf_grid_search.best_score_\n",
    "\n",
    "# Display the best estimator model) and its parameters\n",
    "print(\"Best Model:\", best_model_rf)\n",
    "print(\"Best Parameters:\", best_params_rf)\n",
    "\n",
    "\n",
    "# Evaluate the best model on the test set\n",
    "y_pred_rf = best_model_rf.predict(X_test_final)\n",
    "\n",
    "# Calculate various metrics\n",
    "best_model_rf_accuracy = accuracy_score(y_test, y_pred_rf)\n",
    "best_model_rf_precision = precision_score(y_test, y_pred_rf)\n",
    "best_model_rf_recall = recall_score(y_test, y_pred_rf)\n",
    "best_model_rf_f1 = f1_score(y_test, y_pred_rf)\n",
    "best_model_rf_confusion_matrix = confusion_matrix(y_test, y_pred_rf)\n",
    "\n",
    "# print metrics\n",
    "print(\"Best Model Metrics:\")\n",
    "print(\"Accuracy: {:.2f}\".format(best_model_rf_accuracy))\n",
    "print(\"Precision: {:.2f}\".format(best_model_rf_precision))\n",
    "print(\"Recall: {:.2f}\".format(best_model_rf_recall))\n",
    "print(\"F1-score: {:.2f}\".format(best_model_rf_f1))\n",
    "print(\"Confusion Matrix:\\n\", best_model_rf_confusion_matrix)\n",
    "print(\"\\n\\n\")\n",
    "\n",
    "# Evaluate best model on train set (for overfitting checks)\n",
    "y_pred_rf = best_model_rf.predict(X_train_final)\n",
    "\n",
    "# calculate metrics\n",
    "best_model_rf_accuracy = accuracy_score(y_train, y_pred_rf)\n",
    "best_model_rf_precision = precision_score(y_train, y_pred_rf)\n",
    "best_model_rf_recall = recall_score(y_train, y_pred_rf)\n",
    "best_model_rf_f1 = f1_score(y_train, y_pred_rf)\n",
    "best_model_rf_confusion_matrix = confusion_matrix(y_train, y_pred_rf)\n",
    "\n",
    "\n",
    "# print metrics\n",
    "print(\"Best Model Metrics (on train set):\")\n",
    "print(\"Accuracy: {:.2f}\".format(best_model_rf_accuracy))\n",
    "print(\"Precision: {:.2f}\".format(best_model_rf_precision))\n",
    "print(\"Recall: {:.2f}\".format(best_model_rf_recall))\n",
    "print(\"F1-score: {:.2f}\".format(best_model_rf_f1))\n",
    "print(\"Confusion Matrix:\\n\", best_model_rf_confusion_matrix)\n",
    "print(\"\\n\\n\")\n",
    "\n"
   ]
  },
  {
   "cell_type": "code",
   "execution_count": 28,
   "metadata": {},
   "outputs": [
    {
     "data": {
      "text/html": [
       "<div>\n",
       "<style scoped>\n",
       "    .dataframe tbody tr th:only-of-type {\n",
       "        vertical-align: middle;\n",
       "    }\n",
       "\n",
       "    .dataframe tbody tr th {\n",
       "        vertical-align: top;\n",
       "    }\n",
       "\n",
       "    .dataframe thead th {\n",
       "        text-align: right;\n",
       "    }\n",
       "</style>\n",
       "<table border=\"1\" class=\"dataframe\">\n",
       "  <thead>\n",
       "    <tr style=\"text-align: right;\">\n",
       "      <th></th>\n",
       "      <th>mean_train_recall</th>\n",
       "      <th>mean_test_recall</th>\n",
       "      <th>mean_train_precision</th>\n",
       "      <th>mean_test_precision</th>\n",
       "    </tr>\n",
       "  </thead>\n",
       "  <tbody>\n",
       "    <tr>\n",
       "      <th>0</th>\n",
       "      <td>1.0</td>\n",
       "      <td>0.997788</td>\n",
       "      <td>1.0</td>\n",
       "      <td>0.957286</td>\n",
       "    </tr>\n",
       "    <tr>\n",
       "      <th>54</th>\n",
       "      <td>1.0</td>\n",
       "      <td>0.997788</td>\n",
       "      <td>1.0</td>\n",
       "      <td>0.953520</td>\n",
       "    </tr>\n",
       "    <tr>\n",
       "      <th>56</th>\n",
       "      <td>1.0</td>\n",
       "      <td>0.997788</td>\n",
       "      <td>1.0</td>\n",
       "      <td>0.958367</td>\n",
       "    </tr>\n",
       "    <tr>\n",
       "      <th>1</th>\n",
       "      <td>1.0</td>\n",
       "      <td>0.997788</td>\n",
       "      <td>1.0</td>\n",
       "      <td>0.961257</td>\n",
       "    </tr>\n",
       "    <tr>\n",
       "      <th>55</th>\n",
       "      <td>1.0</td>\n",
       "      <td>0.997788</td>\n",
       "      <td>1.0</td>\n",
       "      <td>0.954281</td>\n",
       "    </tr>\n",
       "  </tbody>\n",
       "</table>\n",
       "</div>"
      ],
      "text/plain": [
       "    mean_train_recall  mean_test_recall  mean_train_precision  \\\n",
       "0                 1.0          0.997788                   1.0   \n",
       "54                1.0          0.997788                   1.0   \n",
       "56                1.0          0.997788                   1.0   \n",
       "1                 1.0          0.997788                   1.0   \n",
       "55                1.0          0.997788                   1.0   \n",
       "\n",
       "    mean_test_precision  \n",
       "0              0.957286  \n",
       "54             0.953520  \n",
       "56             0.958367  \n",
       "1              0.961257  \n",
       "55             0.954281  "
      ]
     },
     "execution_count": 28,
     "metadata": {},
     "output_type": "execute_result"
    }
   ],
   "source": [
    "# display the cv results for the train and test set\n",
    "cv_results_rf = pd.DataFrame(rf_grid_search.cv_results_)\n",
    "cv_results_rf = cv_results_rf.sort_values('mean_test_recall', ascending=False)\n",
    "cv_results_rf[['mean_train_recall', 'mean_test_recall', 'mean_train_precision', 'mean_test_precision']].head()"
   ]
  },
  {
   "cell_type": "markdown",
   "metadata": {},
   "source": [
    "The initial Random Forest Classifier model had an accuracy of 0.85, precision of 0.43, recall of 0.11, and an F1-score of 0.18.\n",
    "\n",
    "From the output of GridSearchCV, we found that the best model among the given range of parameters is a random forest classifier with a max_depth of None, min_samples_leaf of 1, min_samples_split of 2, and n_estimators of 50. This model seems to have low bias and low variance, as indicated by the relatively high mean_test_recall score of approximately 0.85 and similar mean_train_recall score.\n",
    "\n",
    "Accuracy: The Random Forest Classifier achieves an accuracy score of 0.86, indicating that it correctly predicts the outcome for approximately 86% of the cases in the test set. This suggests a generally reliable performance in distinguishing between individuals who have experienced a heart stroke and those who have not.\n",
    "\n",
    "Precision: With a precision score of 0.47, the Random Forest Classifier demonstrates a moderate ability to correctly classify individuals as either positive or negative for heart stroke. Specifically, it accurately identifies around 47% of the predicted positive cases as true positives, suggesting decent reliability in its positive predictions.\n",
    "\n",
    "Recall: The recall score is relatively low at 0.10, implying that the model captures only a small proportion (10%) of the individuals who actually had a heart stroke. In other words, it struggles to correctly identify individuals who are truly at risk of experiencing a heart stroke, leading to a significant number of false negatives.\n",
    "\n",
    "F1-score: The F1-score, a balance between precision and recall, is also low at 0.17, indicating suboptimal overall performance due to the imbalance between its ability to correctly classify positive cases and its ability to capture all actual positive instances.\n",
    "\n",
    "Confusion Matrix: Looking at the confusion matrix, out of 1126 instances in the test set, the Random Forest Classifier accurately predicts 950 true negatives (individuals without a heart stroke) and 16 true positives (individuals with a heart stroke). However, it misclassifies 142 cases as false negatives (predicting no heart stroke when it actually occurred) and 18 cases as false positives (predicting a heart stroke when it did not occur).\n",
    "\n",
    "We can also observe that the best model seems to overfit, as its scores on the training data are perfect, while its scores on the test data are certainly not so."
   ]
  },
  {
   "cell_type": "markdown",
   "metadata": {},
   "source": [
    "So in general we can say: Finally, the Random Forest Classifier achieved an accuracy of approximately 86%, slightly higher than the SVM and KNN models. The precision score improved further to 47%, indicating a relatively better ability to identify true positive cases compared to the other models. However, the precision is still not ideal for medical applications, suggesting a risk of false positives. The recall score increased to 10%, indicating that the model identified a slightly higher proportion of actual positive cases compared to the SVM and KNN models. The F1-score also improved to 17%, reflecting a better balance between precision and recall compared to the other models. In the confusion matrix, while the number of false positives decreased compared to the SVM and KNN models, it still remains relatively high.\n",
    "\n",
    "A benefit of using Random Forest Classification is that we can visualize which features were most important. We will do that now."
   ]
  },
  {
   "cell_type": "code",
   "execution_count": 29,
   "metadata": {},
   "outputs": [
    {
     "data": {
      "text/plain": [
       "Text(0.5, 1.0, 'Feature Importance for Random Forest Classifier')"
      ]
     },
     "execution_count": 29,
     "metadata": {},
     "output_type": "execute_result"
    },
    {
     "data": {
      "image/png": "[encoded data removed]",
      "text/plain": [
       "<Figure size 640x480 with 1 Axes>"
      ]
     },
     "metadata": {},
     "output_type": "display_data"
    }
   ],
   "source": [
    "# get feature importance as a series\n",
    "feature_importance = pd.Series(best_model_rf.feature_importances_, index=X_train_final.columns)\n",
    "# sort the values\n",
    "feature_importance.sort_values(ascending=False, inplace=True)\n",
    "# plot\n",
    "feature_importance.plot.bar()\n",
    "plt.ylabel('Importance')\n",
    "plt.xlabel('Feature')\n",
    "plt.title(\"Feature Importance for Random Forest Classifier\")"
   ]
  },
  {
   "cell_type": "markdown",
   "metadata": {},
   "source": [
    "Based on this plot, we can see that age was the most important feature to the model, with systolic blood pressure following close behind. The next most important ones are glucose, BMI, total cholestoral, and diastolic blood pressure. These align with current medical knowledge regarding strokes (as discussed in our poster)."
   ]
  },
  {
   "cell_type": "markdown",
   "metadata": {},
   "source": [
    "In summary, all three models achieved relatively high accuracy rates (especially random forest), but they exhibited relatively low precision and recall scores, indicating a notable risk of false positives and false negatives, which can be particularly concerning in the medical field where accurate predictions are crucial for patient care. Notably, the models also seem to overfit, likely due to the lack of entries with a positive result for stroke.\n",
    "\n",
    "Despite their high accuracy, the precision and recall of these models remains suboptimal, suggesting the need for further refinement and validation before considering their deployment in real-world clinical settings. Additionally, in the future, efforts can be directed towards improving recall to ensure that a higher proportion of actual positive cases are correctly identified, thus enhancing the overall effectiveness of the models in predicting heart strokes. As discussed previously, there is an imbalance in the dataset between positive and negative stroke diagnoses, emphasizing the importance of improving the dataset or using a more complete one to enhance these models' performance as well as to reduce the amount of overfitting, allowing for them to generalize better."
   ]
  }
 ],
 "metadata": {
  "kernelspec": {
   "display_name": "Python 3 (ipykernel)",
   "language": "python",
   "name": "python3"
  },
  "language_info": {
   "codemirror_mode": {
    "name": "ipython",
    "version": 3
   },
   "file_extension": ".py",
   "mimetype": "text/x-python",
   "name": "python",
   "nbconvert_exporter": "python",
   "pygments_lexer": "ipython3",
   "version": "3.11.5"
  }
 },
 "nbformat": 4,
 "nbformat_minor": 4
}
